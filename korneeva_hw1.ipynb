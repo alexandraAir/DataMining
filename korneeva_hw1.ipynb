{
 "cells": [
  {
   "cell_type": "markdown",
   "metadata": {},
   "source": [
    "**Общая информация**\n",
    "\n",
    "**Срок сдачи:** 20 марта 2019, 06:00 <br\\>\n",
    "**Штраф за опоздание:** -1 балл после 06:00 20 марта, -2 балла после 06:00 27 марта, -3 балла после 06:00 3 апреля\n",
    "-4 балла после 06:00 10 апреля\n",
    "\n",
    "При отправлении ДЗ указывайте фамилию в названии файла\n",
    "Присылать ДЗ необходимо в виде ссылки на свой github репозиторий в slack @alkhamush\n",
    "\n",
    "Необходимо в slack скинуть ссылку в личный чат @alkhamush\n",
    "Пример ссылки:\n",
    "https://github.com/stroykova/spheremailru/stroykova_hw1.ipynb \n",
    "\n",
    "\n",
    "Используйте данный Ipython Notebook при оформлении домашнего задания."
   ]
  },
  {
   "cell_type": "markdown",
   "metadata": {},
   "source": [
    "##### Задание 1 (2 баллов)\n",
    "Реализовать KNN в классе MyKNeighborsClassifier (обязательное условие: точность не ниже sklearn реализации)\n",
    "Разберитесь самостоятельно, какая мера расстояния используется в KNeighborsClassifier дефолтно и реализуйте свой алгоритм именно с этой мерой. Самостоятельно разберитесь, как считается score из KNeighborsClassifier и реализуйте аналог в своём классе. Score не должен уступать значению KNN из sklearn\n",
    "\n",
    "###### Задание 2 (2 балла)\n",
    "Добиться скорости работы на fit,  predict и predict_proba сравнимой со sklearn для iris и mnist\n",
    "Для этого используем numpy\n",
    "\n",
    "###### Задание 3 (2 балла)\n",
    "Для iris найдите такой параметр n_neighbors, при котором выдаётся наилучший score. Нарисуйте график зависимости score от n_neighbors\n",
    "\n",
    "###### Задание 4 (3 балла)\n",
    "Добавить algorithm='kd_tree' в реализацию KNN (использовать KDTree из sklearn.neighbors). Добиться скорости работы на fit,  predict и predict_proba сравнимой со sklearn для iris и mnist\n",
    "Для этого используем numpy. Score не должен уступать значению KNN из sklearn\n",
    "\n",
    "###### Задание 5 (1 балла)\n",
    "Описать для чего нужны следующие библиотеки/классы/функции (список будет ниже)\n",
    "\n",
    "**Штрафные баллы:**\n",
    "\n",
    "1. Невыполнение PEP8 -0.5 баллов\n",
    "2. Отсутствие фамилии в имени скрипта (скрипт должен называться по аналогии со stroykova_hw1.ipynb) -0.5 баллов\n",
    "3. Все строчки должны быть выполнены. Нужно, чтобы output команды можно было увидеть уже в git'е. В противном случае -0.5 баллов\n",
    "4. При оформлении ДЗ нужно пользоваться данным файлом в качестве шаблона. Не нужно удалять и видоизменять структуру кода и текст. В противном случае -0.5 баллов\n"
   ]
  },
  {
   "cell_type": "code",
   "execution_count": 197,
   "metadata": {},
   "outputs": [
    {
     "name": "stdout",
     "output_type": "stream",
     "text": [
      "The pycodestyle_magic extension is already loaded. To reload it, use:\n",
      "  %reload_ext pycodestyle_magic\n"
     ]
    }
   ],
   "source": [
    "import numpy as np\n",
    "import matplotlib.pyplot as plt\n",
    "import seaborn as sns\n",
    "from sklearn.metrics import pairwise_distances\n",
    "from sklearn import datasets\n",
    "from sklearn.base import ClassifierMixin\n",
    "from sklearn.datasets import fetch_mldata\n",
    "from sklearn.neighbors.base import NeighborsBase, KNeighborsMixin, SupervisedIntegerMixin \n",
    "from sklearn.model_selection import train_test_split\n",
    "from sklearn.neighbors import KNeighborsClassifier\n",
    "from sklearn.neighbors import KDTree\n",
    "from scipy import stats\n",
    "from mlxtend.data import loadlocal_mnist\n",
    "\n",
    "%load_ext pycodestyle_magic"
   ]
  },
  {
   "cell_type": "code",
   "execution_count": 199,
   "metadata": {},
   "outputs": [],
   "source": [
    "#%%pycodestyle\n",
    "\n",
    "\n",
    "class MyKNeighborsClassifier(NeighborsBase, KNeighborsMixin,\n",
    "                             SupervisedIntegerMixin, ClassifierMixin):\n",
    "    def __init__(self, n_neighbors, algorithm):\n",
    "        self.n_neighbors = n_neighbors\n",
    "        self.algorithm = algorithm\n",
    "\n",
    "    def fit(self, X, y):\n",
    "        self.classes = np.unique(y)\n",
    "        if self.algorithm == 'brute':\n",
    "            self.X = X\n",
    "            self.y = y\n",
    "        elif self.algorithm == 'kd_tree':\n",
    "            self.tree = KDTree(X)\n",
    "            self.y = y\n",
    "\n",
    "    def kneighbors(self, X):\n",
    "        if self.algorithm == 'brute':\n",
    "            neighbors = pairwise_distances(X=X, Y=self.X)\n",
    "            k_ind = neighbors.argpartition(self.n_neighbors)[:, :self.n_neighbors]\n",
    "            k_dist = neighbors[:, k_ind]\n",
    "        elif self.algorithm == 'kd_tree':\n",
    "            k_dist, k_ind = self.tree.query(X, k=self.n_neighbors)\n",
    "        return k_dist, k_ind\n",
    "\n",
    "    def predict(self, X):\n",
    "        X = X.astype(float)\n",
    "        k_dist, k_ind = self.kneighbors(X)\n",
    "        n_samples = X.shape[0]\n",
    "        y_pred = np.zeros(X.shape[0], dtype=int)\n",
    "        for idx, k in enumerate(k_ind):\n",
    "            mode, _ = stats.mode(self.y[np.array(k)])\n",
    "            y_pred[idx] = mode[0]\n",
    "        return y_pred\n",
    "\n",
    "    def predict_proba(self, X):\n",
    "        X = X.astype(float)\n",
    "        neigh_dist, neigh_ind = self.kneighbors(X)\n",
    "\n",
    "        classes_ = self.classes\n",
    "        _y = self.y\n",
    "\n",
    "        n_samples = X.shape[0]\n",
    "        weights = np.ones_like(neigh_ind)\n",
    "\n",
    "        all_rows = np.arange(X.shape[0])\n",
    "        probabilities = []\n",
    "        _y = self.y.reshape((-1, 1))\n",
    "        classes_ = [self.classes]\n",
    "        for k, classes_k in enumerate(classes_):\n",
    "            pred_labels = _y[:, k][neigh_ind]\n",
    "            proba_k = np.zeros((n_samples, classes_k.size))\n",
    "            for i, idx in enumerate(pred_labels.T):\n",
    "                proba_k[all_rows, idx] += weights[:, i]\n",
    "            normalizer = proba_k.sum(axis=1)[:, np.newaxis]\n",
    "            normalizer[normalizer == 0.0] = 1.0\n",
    "            proba_k /= normalizer\n",
    "\n",
    "            probabilities.append(proba_k)\n",
    "        return probabilities\n",
    "\n",
    "    def score(self, X, y):\n",
    "        Y = self.predict(X)\n",
    "        return np.mean(y == Y)\n"
   ]
  },
  {
   "cell_type": "markdown",
   "metadata": {},
   "source": [
    "**IRIS**"
   ]
  },
  {
   "cell_type": "code",
   "execution_count": 200,
   "metadata": {},
   "outputs": [],
   "source": [
    "iris = datasets.load_iris()"
   ]
  },
  {
   "cell_type": "code",
   "execution_count": 201,
   "metadata": {},
   "outputs": [],
   "source": [
    "X_train, X_test, y_train, y_test = train_test_split(iris.data, iris.target, test_size=0.1, stratify=iris.target)"
   ]
  },
  {
   "cell_type": "code",
   "execution_count": 202,
   "metadata": {},
   "outputs": [],
   "source": [
    "clf = KNeighborsClassifier(n_neighbors=2, algorithm='brute')\n",
    "my_clf = MyKNeighborsClassifier(n_neighbors=2, algorithm='brute')"
   ]
  },
  {
   "cell_type": "code",
   "execution_count": 203,
   "metadata": {},
   "outputs": [
    {
     "name": "stdout",
     "output_type": "stream",
     "text": [
      "CPU times: user 851 µs, sys: 740 µs, total: 1.59 ms\n",
      "Wall time: 1.34 ms\n"
     ]
    },
    {
     "data": {
      "text/plain": [
       "KNeighborsClassifier(algorithm='brute', leaf_size=30, metric='minkowski',\n",
       "           metric_params=None, n_jobs=None, n_neighbors=2, p=2,\n",
       "           weights='uniform')"
      ]
     },
     "execution_count": 203,
     "metadata": {},
     "output_type": "execute_result"
    }
   ],
   "source": [
    "%time clf.fit(X_train, y_train)"
   ]
  },
  {
   "cell_type": "code",
   "execution_count": 204,
   "metadata": {},
   "outputs": [
    {
     "name": "stdout",
     "output_type": "stream",
     "text": [
      "CPU times: user 197 µs, sys: 96 µs, total: 293 µs\n",
      "Wall time: 218 µs\n"
     ]
    }
   ],
   "source": [
    "%time my_clf.fit(X_train, y_train)"
   ]
  },
  {
   "cell_type": "code",
   "execution_count": 205,
   "metadata": {},
   "outputs": [
    {
     "name": "stdout",
     "output_type": "stream",
     "text": [
      "CPU times: user 2.38 ms, sys: 2.9 ms, total: 5.27 ms\n",
      "Wall time: 4.39 ms\n"
     ]
    },
    {
     "data": {
      "text/plain": [
       "array([2, 0, 2, 0, 2, 0, 2, 1, 1, 1, 1, 2, 0, 1, 0])"
      ]
     },
     "execution_count": 205,
     "metadata": {},
     "output_type": "execute_result"
    }
   ],
   "source": [
    "%time clf.predict(X_test)"
   ]
  },
  {
   "cell_type": "code",
   "execution_count": 206,
   "metadata": {},
   "outputs": [
    {
     "name": "stdout",
     "output_type": "stream",
     "text": [
      "CPU times: user 3.02 ms, sys: 1.05 ms, total: 4.07 ms\n",
      "Wall time: 3.16 ms\n"
     ]
    },
    {
     "data": {
      "text/plain": [
       "array([2, 0, 2, 0, 2, 0, 2, 1, 1, 1, 1, 2, 0, 1, 0])"
      ]
     },
     "execution_count": 206,
     "metadata": {},
     "output_type": "execute_result"
    }
   ],
   "source": [
    "%time my_clf.predict(X_test)"
   ]
  },
  {
   "cell_type": "code",
   "execution_count": 207,
   "metadata": {},
   "outputs": [
    {
     "name": "stdout",
     "output_type": "stream",
     "text": [
      "CPU times: user 1.59 ms, sys: 972 µs, total: 2.56 ms\n",
      "Wall time: 1.75 ms\n"
     ]
    },
    {
     "data": {
      "text/plain": [
       "array([[0., 0., 1.],\n",
       "       [1., 0., 0.],\n",
       "       [0., 0., 1.],\n",
       "       [1., 0., 0.],\n",
       "       [0., 0., 1.],\n",
       "       [1., 0., 0.],\n",
       "       [0., 0., 1.],\n",
       "       [0., 1., 0.],\n",
       "       [0., 1., 0.],\n",
       "       [0., 1., 0.],\n",
       "       [0., 1., 0.],\n",
       "       [0., 0., 1.],\n",
       "       [1., 0., 0.],\n",
       "       [0., 1., 0.],\n",
       "       [1., 0., 0.]])"
      ]
     },
     "execution_count": 207,
     "metadata": {},
     "output_type": "execute_result"
    }
   ],
   "source": [
    "%time clf.predict_proba(X_test)"
   ]
  },
  {
   "cell_type": "code",
   "execution_count": 208,
   "metadata": {},
   "outputs": [
    {
     "name": "stdout",
     "output_type": "stream",
     "text": [
      "CPU times: user 1.26 ms, sys: 736 µs, total: 2 ms\n",
      "Wall time: 1.31 ms\n"
     ]
    },
    {
     "data": {
      "text/plain": [
       "[array([[0., 0., 1.],\n",
       "        [1., 0., 0.],\n",
       "        [0., 0., 1.],\n",
       "        [1., 0., 0.],\n",
       "        [0., 0., 1.],\n",
       "        [1., 0., 0.],\n",
       "        [0., 0., 1.],\n",
       "        [0., 1., 0.],\n",
       "        [0., 1., 0.],\n",
       "        [0., 1., 0.],\n",
       "        [0., 1., 0.],\n",
       "        [0., 0., 1.],\n",
       "        [1., 0., 0.],\n",
       "        [0., 1., 0.],\n",
       "        [1., 0., 0.]])]"
      ]
     },
     "execution_count": 208,
     "metadata": {},
     "output_type": "execute_result"
    }
   ],
   "source": [
    "%time my_clf.predict_proba(X_test)"
   ]
  },
  {
   "cell_type": "code",
   "execution_count": 209,
   "metadata": {},
   "outputs": [
    {
     "data": {
      "text/plain": [
       "1.0"
      ]
     },
     "execution_count": 209,
     "metadata": {},
     "output_type": "execute_result"
    }
   ],
   "source": [
    "clf.score(X_test, y_test)"
   ]
  },
  {
   "cell_type": "code",
   "execution_count": 210,
   "metadata": {},
   "outputs": [
    {
     "data": {
      "text/plain": [
       "1.0"
      ]
     },
     "execution_count": 210,
     "metadata": {},
     "output_type": "execute_result"
    }
   ],
   "source": [
    "my_clf.score(X_test, y_test)"
   ]
  },
  {
   "cell_type": "markdown",
   "metadata": {},
   "source": [
    "Задание 3"
   ]
  },
  {
   "cell_type": "code",
   "execution_count": 211,
   "metadata": {},
   "outputs": [
    {
     "name": "stdout",
     "output_type": "stream",
     "text": [
      "Best score by n_neighbors =  17\n"
     ]
    },
    {
     "data": {
      "image/png": "[encoded data removed]",
      "text/plain": [
       "<Figure size 432x288 with 1 Axes>"
      ]
     },
     "metadata": {
      "needs_background": "light"
     },
     "output_type": "display_data"
    }
   ],
   "source": [
    "results = [0]\n",
    "for neighbors in range(1, 40):\n",
    "    sum = 0\n",
    "    for it in range(10):\n",
    "        X_train, X_test, y_train, y_test = train_test_split(iris.data, iris.target, test_size=0.1, stratify=iris.target)\n",
    "        clf = MyKNeighborsClassifier(n_neighbors=neighbors, algorithm=\"brute\")\n",
    "        clf.fit(X_train, y_train)\n",
    "        sum += clf.score(X_test, y_test)\n",
    "    results.append(sum / 100)\n",
    "    \n",
    "best = np.argmax(results)\n",
    "print(\"Best score by n_neighbors = \", best)\n",
    "plt.plot(range(1, 40), results[1:], color='blue')\n",
    "plt.xlabel('n_neighbors')\n",
    "plt.ylabel('score')\n",
    "plt.show()"
   ]
  },
  {
   "cell_type": "markdown",
   "metadata": {},
   "source": [
    "**MNIST**"
   ]
  },
  {
   "cell_type": "code",
   "execution_count": 212,
   "metadata": {},
   "outputs": [],
   "source": [
    "XMnist, yMnist = loadlocal_mnist(\n",
    "        images_path='/Users/aleksandra/desktop/train-images-idx3-ubyte', \n",
    "        labels_path='/Users/aleksandra/desktop/train-labels-idx1-ubyte')"
   ]
  },
  {
   "cell_type": "code",
   "execution_count": 213,
   "metadata": {},
   "outputs": [],
   "source": [
    "X_train, X_test, y_train, y_test = train_test_split(XMnist, yMnist, test_size=0.01, stratify=yMnist)"
   ]
  },
  {
   "cell_type": "code",
   "execution_count": 214,
   "metadata": {},
   "outputs": [],
   "source": [
    "clf = KNeighborsClassifier(n_neighbors=2, algorithm='brute')\n",
    "my_clf = MyKNeighborsClassifier(n_neighbors=2, algorithm='brute')"
   ]
  },
  {
   "cell_type": "code",
   "execution_count": 215,
   "metadata": {},
   "outputs": [
    {
     "name": "stdout",
     "output_type": "stream",
     "text": [
      "CPU times: user 6.75 ms, sys: 1.46 ms, total: 8.21 ms\n",
      "Wall time: 7.37 ms\n"
     ]
    },
    {
     "data": {
      "text/plain": [
       "KNeighborsClassifier(algorithm='brute', leaf_size=30, metric='minkowski',\n",
       "           metric_params=None, n_jobs=None, n_neighbors=2, p=2,\n",
       "           weights='uniform')"
      ]
     },
     "execution_count": 215,
     "metadata": {},
     "output_type": "execute_result"
    }
   ],
   "source": [
    "%time clf.fit(X_train, y_train)"
   ]
  },
  {
   "cell_type": "code",
   "execution_count": 216,
   "metadata": {},
   "outputs": [
    {
     "name": "stdout",
     "output_type": "stream",
     "text": [
      "CPU times: user 2.55 ms, sys: 733 µs, total: 3.29 ms\n",
      "Wall time: 2.17 ms\n"
     ]
    }
   ],
   "source": [
    "%time my_clf.fit(X_train, y_train)"
   ]
  },
  {
   "cell_type": "code",
   "execution_count": 217,
   "metadata": {},
   "outputs": [
    {
     "name": "stdout",
     "output_type": "stream",
     "text": [
      "CPU times: user 3.28 s, sys: 875 ms, total: 4.16 s\n",
      "Wall time: 3.37 s\n"
     ]
    },
    {
     "data": {
      "text/plain": [
       "array([0, 0, 8, 3, 3, 5, 1, 6, 1, 6, 9, 0, 4, 0, 6, 6, 7, 7, 2, 3, 5, 0,\n",
       "       3, 9, 3, 0, 1, 7, 1, 6, 7, 5, 8, 3, 7, 9, 1, 4, 3, 2, 9, 9, 5, 0,\n",
       "       0, 4, 7, 3, 9, 9, 0, 0, 1, 2, 1, 5, 7, 0, 5, 2, 8, 3, 9, 7, 9, 5,\n",
       "       9, 4, 0, 9, 9, 4, 2, 8, 2, 4, 7, 2, 8, 1, 8, 8, 9, 2, 2, 9, 5, 2,\n",
       "       3, 8, 6, 6, 1, 4, 3, 6, 1, 9, 1, 4, 2, 6, 7, 8, 6, 6, 1, 6, 6, 8,\n",
       "       5, 8, 6, 3, 6, 4, 3, 2, 7, 9, 7, 9, 3, 3, 0, 8, 8, 1, 2, 8, 1, 4,\n",
       "       2, 2, 7, 2, 6, 7, 3, 3, 4, 2, 7, 8, 7, 2, 1, 2, 7, 5, 0, 3, 4, 4,\n",
       "       4, 6, 5, 2, 9, 6, 7, 3, 1, 0, 5, 1, 9, 4, 4, 5, 1, 6, 0, 9, 3, 5,\n",
       "       0, 2, 0, 0, 0, 2, 4, 0, 0, 3, 1, 3, 5, 8, 1, 9, 6, 6, 1, 9, 0, 4,\n",
       "       2, 1, 8, 1, 5, 6, 9, 1, 8, 4, 5, 2, 8, 3, 1, 4, 0, 9, 6, 6, 5, 9,\n",
       "       1, 8, 4, 8, 7, 2, 8, 2, 3, 7, 2, 8, 1, 9, 0, 5, 8, 1, 9, 4, 3, 4,\n",
       "       1, 1, 2, 7, 4, 8, 2, 3, 6, 9, 5, 5, 5, 0, 6, 1, 6, 7, 3, 1, 4, 4,\n",
       "       6, 7, 1, 2, 5, 6, 5, 1, 3, 3, 7, 3, 3, 7, 9, 6, 8, 4, 6, 6, 3, 0,\n",
       "       5, 7, 6, 9, 1, 3, 2, 2, 0, 0, 1, 7, 1, 5, 9, 0, 7, 7, 4, 1, 7, 3,\n",
       "       3, 4, 2, 2, 3, 8, 0, 5, 2, 1, 5, 6, 1, 1, 9, 9, 1, 6, 9, 0, 0, 0,\n",
       "       4, 5, 2, 9, 0, 0, 6, 6, 4, 4, 8, 1, 1, 7, 0, 3, 7, 3, 4, 0, 9, 1,\n",
       "       7, 4, 3, 7, 9, 2, 8, 0, 8, 8, 0, 6, 4, 5, 3, 8, 1, 7, 0, 1, 9, 1,\n",
       "       2, 1, 7, 9, 3, 0, 9, 8, 4, 7, 3, 5, 9, 6, 0, 5, 0, 7, 2, 2, 2, 8,\n",
       "       2, 6, 4, 7, 3, 4, 3, 5, 4, 5, 3, 2, 2, 5, 3, 9, 6, 3, 7, 1, 6, 2,\n",
       "       8, 8, 1, 6, 3, 7, 0, 4, 1, 6, 3, 9, 6, 8, 6, 4, 9, 5, 2, 2, 0, 7,\n",
       "       6, 1, 0, 4, 9, 4, 3, 1, 8, 9, 8, 1, 8, 5, 6, 0, 7, 3, 1, 8, 6, 1,\n",
       "       8, 7, 1, 1, 2, 4, 4, 6, 6, 7, 4, 3, 6, 8, 0, 7, 8, 3, 3, 4, 8, 8,\n",
       "       7, 5, 8, 5, 7, 7, 6, 5, 9, 2, 8, 9, 7, 8, 0, 4, 1, 7, 9, 6, 0, 0,\n",
       "       7, 9, 4, 1, 9, 2, 4, 5, 6, 4, 5, 9, 2, 2, 3, 7, 6, 1, 4, 2, 2, 9,\n",
       "       7, 4, 8, 7, 8, 6, 8, 7, 7, 9, 7, 0, 5, 7, 0, 1, 0, 1, 7, 7, 9, 6,\n",
       "       5, 0, 5, 1, 2, 1, 7, 4, 5, 8, 5, 5, 4, 6, 1, 4, 3, 7, 1, 7, 6, 9,\n",
       "       3, 7, 9, 2, 2, 2, 1, 5, 5, 3, 4, 8, 0, 7, 5, 4, 3, 9, 5, 8, 8, 0,\n",
       "       3, 8, 3, 1, 8, 0], dtype=uint8)"
      ]
     },
     "execution_count": 217,
     "metadata": {},
     "output_type": "execute_result"
    }
   ],
   "source": [
    "%time clf.predict(X_test)"
   ]
  },
  {
   "cell_type": "code",
   "execution_count": 218,
   "metadata": {},
   "outputs": [
    {
     "name": "stdout",
     "output_type": "stream",
     "text": [
      "CPU times: user 2.9 s, sys: 450 ms, total: 3.35 s\n",
      "Wall time: 2.26 s\n"
     ]
    },
    {
     "data": {
      "text/plain": [
       "array([0, 0, 8, 3, 3, 5, 1, 6, 1, 6, 9, 0, 4, 0, 6, 6, 7, 7, 2, 3, 5, 0,\n",
       "       3, 9, 3, 0, 1, 7, 1, 6, 7, 5, 8, 3, 7, 9, 1, 4, 3, 2, 9, 9, 5, 0,\n",
       "       0, 4, 7, 3, 9, 9, 0, 0, 1, 2, 1, 5, 7, 0, 5, 2, 8, 3, 9, 7, 9, 5,\n",
       "       9, 4, 0, 9, 9, 4, 2, 8, 2, 4, 7, 2, 8, 1, 8, 8, 9, 2, 2, 9, 5, 2,\n",
       "       3, 8, 6, 6, 1, 4, 3, 6, 1, 9, 1, 4, 2, 6, 7, 8, 6, 6, 1, 6, 6, 8,\n",
       "       5, 8, 6, 3, 6, 4, 3, 2, 7, 9, 7, 9, 3, 3, 0, 8, 8, 1, 2, 8, 1, 4,\n",
       "       2, 2, 7, 2, 6, 7, 3, 3, 4, 2, 7, 8, 7, 2, 1, 2, 7, 5, 0, 3, 4, 4,\n",
       "       4, 6, 5, 2, 9, 6, 7, 3, 1, 0, 5, 1, 9, 4, 4, 5, 1, 6, 0, 9, 3, 5,\n",
       "       0, 2, 0, 0, 0, 2, 4, 0, 0, 3, 1, 3, 5, 8, 1, 9, 6, 6, 1, 9, 0, 4,\n",
       "       2, 1, 8, 1, 5, 6, 9, 1, 8, 4, 5, 2, 8, 3, 1, 4, 0, 9, 6, 6, 5, 9,\n",
       "       1, 8, 4, 8, 7, 2, 8, 2, 3, 7, 2, 8, 1, 9, 0, 5, 8, 1, 9, 4, 3, 4,\n",
       "       1, 1, 2, 7, 4, 8, 2, 3, 6, 9, 5, 5, 5, 0, 6, 1, 6, 7, 3, 1, 4, 4,\n",
       "       6, 7, 1, 2, 5, 6, 5, 1, 3, 3, 7, 3, 3, 7, 9, 6, 8, 4, 6, 6, 3, 0,\n",
       "       5, 7, 6, 9, 1, 3, 2, 2, 0, 0, 1, 7, 1, 5, 9, 0, 7, 7, 4, 1, 7, 3,\n",
       "       3, 4, 2, 2, 3, 8, 0, 5, 2, 1, 5, 6, 1, 1, 9, 9, 1, 6, 9, 0, 0, 0,\n",
       "       4, 5, 2, 9, 0, 0, 6, 6, 4, 4, 8, 1, 1, 7, 0, 3, 7, 3, 4, 0, 9, 1,\n",
       "       7, 4, 3, 7, 9, 2, 8, 0, 8, 8, 0, 6, 4, 5, 3, 8, 1, 7, 0, 1, 9, 1,\n",
       "       2, 1, 7, 9, 3, 0, 9, 8, 4, 7, 3, 5, 9, 6, 0, 5, 0, 7, 2, 2, 2, 8,\n",
       "       2, 6, 4, 7, 3, 4, 3, 5, 4, 5, 3, 2, 2, 5, 3, 9, 6, 3, 7, 1, 6, 2,\n",
       "       8, 8, 1, 6, 3, 7, 0, 4, 1, 6, 3, 9, 6, 8, 6, 4, 9, 5, 2, 2, 0, 7,\n",
       "       6, 1, 0, 4, 9, 4, 3, 1, 8, 9, 8, 1, 8, 5, 6, 0, 7, 3, 1, 8, 6, 1,\n",
       "       8, 7, 1, 1, 2, 4, 4, 6, 6, 7, 4, 3, 6, 8, 0, 7, 8, 3, 3, 4, 8, 8,\n",
       "       7, 5, 8, 5, 7, 7, 6, 5, 9, 2, 8, 9, 7, 8, 0, 4, 1, 7, 9, 6, 0, 0,\n",
       "       7, 9, 4, 1, 9, 2, 4, 5, 6, 4, 5, 9, 2, 2, 3, 7, 6, 1, 4, 2, 2, 9,\n",
       "       7, 4, 8, 7, 8, 6, 8, 7, 7, 9, 7, 0, 5, 7, 0, 1, 0, 1, 7, 7, 9, 6,\n",
       "       5, 0, 5, 1, 2, 1, 7, 4, 5, 8, 5, 5, 4, 6, 1, 4, 3, 7, 1, 7, 6, 9,\n",
       "       3, 7, 9, 2, 2, 2, 1, 5, 5, 3, 4, 8, 0, 7, 5, 4, 3, 9, 5, 8, 8, 0,\n",
       "       3, 8, 3, 1, 8, 0])"
      ]
     },
     "execution_count": 218,
     "metadata": {},
     "output_type": "execute_result"
    }
   ],
   "source": [
    "%time my_clf.predict(X_test)"
   ]
  },
  {
   "cell_type": "code",
   "execution_count": 219,
   "metadata": {},
   "outputs": [
    {
     "name": "stdout",
     "output_type": "stream",
     "text": [
      "CPU times: user 2.8 s, sys: 386 ms, total: 3.18 s\n",
      "Wall time: 2.07 s\n"
     ]
    },
    {
     "data": {
      "text/plain": [
       "array([[0.5, 0. , 0. , ..., 0. , 0. , 0.5],\n",
       "       [1. , 0. , 0. , ..., 0. , 0. , 0. ],\n",
       "       [0. , 0. , 0. , ..., 0. , 1. , 0. ],\n",
       "       ...,\n",
       "       [0. , 1. , 0. , ..., 0. , 0. , 0. ],\n",
       "       [0. , 0. , 0. , ..., 0. , 1. , 0. ],\n",
       "       [1. , 0. , 0. , ..., 0. , 0. , 0. ]])"
      ]
     },
     "execution_count": 219,
     "metadata": {},
     "output_type": "execute_result"
    }
   ],
   "source": [
    "%time clf.predict_proba(X_test)"
   ]
  },
  {
   "cell_type": "code",
   "execution_count": 220,
   "metadata": {},
   "outputs": [
    {
     "name": "stdout",
     "output_type": "stream",
     "text": [
      "CPU times: user 3.22 s, sys: 406 ms, total: 3.63 s\n",
      "Wall time: 2.39 s\n"
     ]
    },
    {
     "data": {
      "text/plain": [
       "[array([[0.5, 0. , 0. , ..., 0. , 0. , 0.5],\n",
       "        [1. , 0. , 0. , ..., 0. , 0. , 0. ],\n",
       "        [0. , 0. , 0. , ..., 0. , 1. , 0. ],\n",
       "        ...,\n",
       "        [0. , 1. , 0. , ..., 0. , 0. , 0. ],\n",
       "        [0. , 0. , 0. , ..., 0. , 1. , 0. ],\n",
       "        [1. , 0. , 0. , ..., 0. , 0. , 0. ]])]"
      ]
     },
     "execution_count": 220,
     "metadata": {},
     "output_type": "execute_result"
    }
   ],
   "source": [
    "%time my_clf.predict_proba(X_test)"
   ]
  },
  {
   "cell_type": "code",
   "execution_count": null,
   "metadata": {},
   "outputs": [
    {
     "data": {
      "text/plain": [
       "0.9733333333333334"
      ]
     },
     "execution_count": 221,
     "metadata": {},
     "output_type": "execute_result"
    }
   ],
   "source": [
    "clf.score(X_test, y_test)"
   ]
  },
  {
   "cell_type": "code",
   "execution_count": null,
   "metadata": {},
   "outputs": [
    {
     "data": {
      "text/plain": [
       "0.9733333333333334"
      ]
     },
     "execution_count": 222,
     "metadata": {},
     "output_type": "execute_result"
    }
   ],
   "source": [
    "my_clf.score(X_test, y_test)"
   ]
  },
  {
   "cell_type": "markdown",
   "metadata": {},
   "source": [
    "Задание 4"
   ]
  },
  {
   "cell_type": "code",
   "execution_count": null,
   "metadata": {},
   "outputs": [],
   "source": [
    "clf = KNeighborsClassifier(n_neighbors=2, algorithm='kd_tree')\n",
    "my_clf = MyKNeighborsClassifier(n_neighbors=2, algorithm='kd_tree')"
   ]
  },
  {
   "cell_type": "code",
   "execution_count": null,
   "metadata": {},
   "outputs": [],
   "source": [
    "X_train, X_test, y_train, y_test = train_test_split(XMnist, yMnist, test_size=0.01, stratify=yMnist)"
   ]
  },
  {
   "cell_type": "code",
   "execution_count": null,
   "metadata": {},
   "outputs": [],
   "source": [
    "%time clf.fit(X_train, y_train)"
   ]
  },
  {
   "cell_type": "code",
   "execution_count": null,
   "metadata": {},
   "outputs": [],
   "source": [
    "%time my_clf.fit(X_train, y_train)"
   ]
  },
  {
   "cell_type": "code",
   "execution_count": null,
   "metadata": {},
   "outputs": [],
   "source": [
    "%time clf.predict(X_test)"
   ]
  },
  {
   "cell_type": "code",
   "execution_count": null,
   "metadata": {},
   "outputs": [],
   "source": [
    "%time my_clf.predict(X_test)"
   ]
  },
  {
   "cell_type": "code",
   "execution_count": null,
   "metadata": {},
   "outputs": [],
   "source": [
    "%time clf.predict_proba(X_test)"
   ]
  },
  {
   "cell_type": "code",
   "execution_count": null,
   "metadata": {},
   "outputs": [],
   "source": [
    "%time my_clf.predict_proba(X_test)"
   ]
  },
  {
   "cell_type": "code",
   "execution_count": null,
   "metadata": {},
   "outputs": [],
   "source": [
    "clf.score(X_test, y_test)"
   ]
  },
  {
   "cell_type": "code",
   "execution_count": null,
   "metadata": {},
   "outputs": [],
   "source": [
    "my_clf.score(X_test, y_test)"
   ]
  },
  {
   "cell_type": "markdown",
   "metadata": {},
   "source": [
    "Задание 5"
   ]
  },
  {
   "cell_type": "code",
   "execution_count": null,
   "metadata": {},
   "outputs": [],
   "source": [
    "# seaborn - библиотека визуализации данных, основанная на matplotlib\n",
    "\n",
    "# matplotlib - библиотека для визуализации данных 2d графикой\n",
    "\n",
    "# train_test_split - функция sklearn, которая разбивает датасет на обучающие и тестовые данные\n",
    "\n",
    "# Pipelin%load_ext e (from sklearn.pipeline import Pipeline) - конвеер, \n",
    "#позволяет последовательно применять список преобразований\n",
    "\n",
    "# StandardScaler (from sklearn.preprocessing import StandardScaler) -\n",
    "# класс позволяет нормализовать распредление\n",
    "\n",
    "# ClassifierMixin - класс всех классификаторов в sklearn\n",
    "\n",
    "# NeighborsBase - базовый класс sklearn для knn\n",
    "\n",
    "# KNeighborsMixin - класс для поиска k ближайших соседей\n",
    "\n",
    "# SupervisedIntegerMixin - класс, который содержит метод fit(), позволяющий обучать модель"
   ]
  }
 ],
 "metadata": {
  "kernelspec": {
   "display_name": "Python 3",
   "language": "python",
   "name": "python3"
  },
  "language_info": {
   "codemirror_mode": {
    "name": "ipython",
    "version": 3
   },
   "file_extension": ".py",
   "mimetype": "text/x-python",
   "name": "python",
   "nbconvert_exporter": "python",
   "pygments_lexer": "ipython3",
   "version": "3.7.1"
  }
 },
 "nbformat": 4,
 "nbformat_minor": 2
}
