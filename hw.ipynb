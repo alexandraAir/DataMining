{
 "cells": [
  {
   "cell_type": "code",
   "execution_count": null,
   "metadata": {},
   "outputs": [],
   "source": []
  },
  {
   "cell_type": "code",
   "execution_count": 5,
   "metadata": {},
   "outputs": [],
   "source": [
    "from selenium import webdriver\n",
    "from selenium.webdriver.common.keys import Keys\n",
    "import pandas as pd\n",
    "\n",
    "import html\n",
    "from time import sleep"
   ]
  },
  {
   "cell_type": "code",
   "execution_count": null,
   "metadata": {},
   "outputs": [],
   "source": []
  },
  {
   "cell_type": "code",
   "execution_count": 6,
   "metadata": {},
   "outputs": [],
   "source": [
    "def scrol():\n",
    "        last_height = driver.execute_script(\"return document.body.scrollHeight\")\n",
    "        while True:\n",
    "            driver.execute_script(\"window.scrollTo(0, document.body.scrollHeight);\")\n",
    "            sleep(1)\n",
    "            new_height = driver.execute_script(\"return document.body.scrollHeight\")\n",
    "            if new_height == last_height:\n",
    "                break\n",
    "            last_height = new_height\n",
    "\n",
    "def get_pages(driver, url, result, t_sleep=1):\n",
    "    driver.get(url)\n",
    "    sleep(t_sleep)\n",
    "    while True:\n",
    "        scrol()\n",
    "        elements = driver.find_elements_by_class_name(\"uy\")\n",
    "        now_len = len(elements)\n",
    "        if now_len < 10:\n",
    "            break\n",
    "        element = elements[now_len - 1].find_element_by_css_selector('a').get_attribute('href')\n",
    "        driver.get(element)\n",
    "        \n",
    "    links = driver.find_elements_by_class_name(\"kd\")\n",
    "    autors = driver.find_elements_by_class_name(\"ld\")\n",
    " \n",
    "    for link, autor in zip(links, autors):\n",
    "        classes = link.get_attribute('class').split()  \n",
    "        classes_ = autor.get_attribute('class').split() \n",
    "        book_info = {\n",
    "            'link': link.find_element_by_css_selector('a').get_attribute('href'),\n",
    "            'autor': autor.text,\n",
    "        }\n",
    "\n",
    "        result.append(book_info)\n",
    "        \n",
    "    return result"
   ]
  },
  {
   "cell_type": "code",
   "execution_count": 7,
   "metadata": {},
   "outputs": [],
   "source": [
    "url_format = \"https://www.bookvoed.ru/author/books?id={}&view=list\"\n",
    "\n",
    "autor_id = [\"29369\", \"29442\", \"102994\", \"26149\", \"35952\"]\n",
    "result = []\n",
    "with webdriver.Chrome() as driver:\n",
    "    for autor in autor_id:\n",
    "        url_current = url_format.format(autor)\n",
    "        result = get_pages(driver, url_current, result)\n",
    "        "
   ]
  },
  {
   "cell_type": "code",
   "execution_count": 9,
   "metadata": {},
   "outputs": [
    {
     "data": {
      "text/html": [
       "<div>\n",
       "<style scoped>\n",
       "    .dataframe tbody tr th:only-of-type {\n",
       "        vertical-align: middle;\n",
       "    }\n",
       "\n",
       "    .dataframe tbody tr th {\n",
       "        vertical-align: top;\n",
       "    }\n",
       "\n",
       "    .dataframe thead th {\n",
       "        text-align: right;\n",
       "    }\n",
       "</style>\n",
       "<table border=\"1\" class=\"dataframe\">\n",
       "  <thead>\n",
       "    <tr style=\"text-align: right;\">\n",
       "      <th></th>\n",
       "      <th>autor</th>\n",
       "      <th>link</th>\n",
       "    </tr>\n",
       "  </thead>\n",
       "  <tbody>\n",
       "    <tr>\n",
       "      <th>0</th>\n",
       "      <td>Донцова Дарья Аркадьевна</td>\n",
       "      <td>https://www.bookvoed.ru/book?id=4493310</td>\n",
       "    </tr>\n",
       "    <tr>\n",
       "      <th>1</th>\n",
       "      <td>Донцова Дарья Аркадьевна</td>\n",
       "      <td>https://www.bookvoed.ru/book?id=4458002</td>\n",
       "    </tr>\n",
       "    <tr>\n",
       "      <th>2</th>\n",
       "      <td>Донцова Дарья Аркадьевна</td>\n",
       "      <td>https://www.bookvoed.ru/book?id=4455170</td>\n",
       "    </tr>\n",
       "    <tr>\n",
       "      <th>3</th>\n",
       "      <td>Донцова Дарья Аркадьевна</td>\n",
       "      <td>https://www.bookvoed.ru/book?id=4453205</td>\n",
       "    </tr>\n",
       "    <tr>\n",
       "      <th>4</th>\n",
       "      <td>Донцова Дарья Аркадьевна</td>\n",
       "      <td>https://www.bookvoed.ru/book?id=4452365</td>\n",
       "    </tr>\n",
       "  </tbody>\n",
       "</table>\n",
       "</div>"
      ],
      "text/plain": [
       "                      autor                                     link\n",
       "0  Донцова Дарья Аркадьевна  https://www.bookvoed.ru/book?id=4493310\n",
       "1  Донцова Дарья Аркадьевна  https://www.bookvoed.ru/book?id=4458002\n",
       "2  Донцова Дарья Аркадьевна  https://www.bookvoed.ru/book?id=4455170\n",
       "3  Донцова Дарья Аркадьевна  https://www.bookvoed.ru/book?id=4453205\n",
       "4  Донцова Дарья Аркадьевна  https://www.bookvoed.ru/book?id=4452365"
      ]
     },
     "execution_count": 9,
     "metadata": {},
     "output_type": "execute_result"
    }
   ],
   "source": [
    "result = pd.DataFrame(result)\n",
    "result.head(5)"
   ]
  },
  {
   "cell_type": "code",
   "execution_count": 10,
   "metadata": {},
   "outputs": [],
   "source": [
    "from html.parser import HTMLParser\n",
    "from bs4 import BeautifulSoup\n",
    "import re\n",
    "import requests\n"
   ]
  },
  {
   "cell_type": "code",
   "execution_count": null,
   "metadata": {},
   "outputs": [],
   "source": []
  },
  {
   "cell_type": "code",
   "execution_count": 11,
   "metadata": {},
   "outputs": [],
   "source": [
    "def book_parser(url_current):\n",
    "    book_html = requests.get(url_current).text\n",
    "    soup = BeautifulSoup(book_html, 'html.parser')\n",
    "    book_info = {\n",
    "        'ID': re.findall('\\d+', soup.find('script').text)[0],\n",
    "        'Название': soup.find('h1', itemprop='name').text.split(':')[0],\n",
    "        'Рейтинг': soup.find('div', class_=\"af\").attrs['style'].split(':')[1],\n",
    "        #'Описание': re.sub('\\s+', ' ', soup.find('div', class_=\"lw\").text),\n",
    "        'Обложка': soup.find('img').attrs['src']\n",
    "\n",
    "    }\n",
    "    if (soup.find('div', class_=\"ov nM\") is not None):\n",
    "        book_info['Возраст'] = '0+'\n",
    "        \n",
    "    if (soup.find('div', class_=\"pv nM\") is not None):\n",
    "        book_info['Возраст'] = '6+'\n",
    "    \n",
    "    if (soup.find('div', class_=\"rv nM\") is not None):\n",
    "        book_info['Возраст'] = '16+'\n",
    "    \n",
    "    if (soup.find('div', class_=\"qv nM\") is not None):\n",
    "        book_info['Возраст'] = '12+'\n",
    "    \n",
    "    if (soup.find('a', class_=\"Ke Me \") is None or len(soup.find('a', class_=\"Ke Me \").text.split()) == 0):\n",
    "        book_info['Понравилось'] = 0\n",
    "    else:\n",
    "        book_info['Понравилось'] = soup.find('a', class_=\"Ke Me \").text.split()[0]\n",
    "    \n",
    "    if (soup.find('a', class_=\"Ke Oe \") is None or len(soup.find('a', class_=\"Ke Oe \").text.split()) == 0):\n",
    "        book_info['Не понравилось'] = 0\n",
    "    else:\n",
    "        book_info['Не понравилось'] = soup.find('a', class_=\"Ke Oe \").text.split()[0]\n",
    "    \n",
    "    if (soup.find('a', class_=\"Ke Le \") is None or len(soup.find('a', class_=\"Ke Le \").text.split()) == 0):\n",
    "        book_info['В закладки'] = 0\n",
    "    else:\n",
    "        book_info['В закладки'] = soup.find('a', class_=\"Ke Le \").text.split()[0]\n",
    "    \n",
    "    if (soup.find('meta', itemprop='price') is None):\n",
    "        book_info['Цена'] = ''\n",
    "    else:\n",
    "        book_info['Цена'] = soup.find('meta', itemprop='price').attrs['content']\n",
    "        \n",
    "    if (soup.find('div', class_=\"lw\") is None):\n",
    "        book_info['Описание'] = ''\n",
    "    else:\n",
    "        book_info['Описание'] = re.sub('\\s+', ' ', soup.find('div', class_=\"lw\").text)\n",
    "\n",
    "    table = soup.find('table', class_='tw')\n",
    "    rows = table.find_all('tr')\n",
    "\n",
    "    for row in rows:\n",
    "        for script in row.find_all(\"script\"):\n",
    "            script.replace_with('')\n",
    "        \n",
    "    data = [list(map(lambda x: re.sub(\"\\s+\", ' ', x.text.strip()), row.find_all('td')))\n",
    "            for row in rows]\n",
    "    for d in data:\n",
    "        book_info[d[0]] = d[1]\n",
    "    \n",
    "    return book_info\n",
    "\n"
   ]
  },
  {
   "cell_type": "code",
   "execution_count": 12,
   "metadata": {},
   "outputs": [],
   "source": [
    "result = list(map(book_parser, result['link']))\n",
    "    \n",
    "df = pd.DataFrame(result)\n",
    "df.sort_values(by=['ID'], inplace=True)\n"
   ]
  },
  {
   "cell_type": "code",
   "execution_count": 15,
   "metadata": {},
   "outputs": [],
   "source": [
    "with open('hw_3.csv', mode='w', encoding='utf-8') as f_csv:\n",
    "    df.to_csv(f_csv, index=False)"
   ]
  },
  {
   "cell_type": "code",
   "execution_count": null,
   "metadata": {},
   "outputs": [],
   "source": []
  },
  {
   "cell_type": "code",
   "execution_count": null,
   "metadata": {},
   "outputs": [],
   "source": []
  }
 ],
 "metadata": {
  "kernelspec": {
   "display_name": "Python 3",
   "language": "python",
   "name": "python3"
  },
  "language_info": {
   "codemirror_mode": {
    "name": "ipython",
    "version": 3
   },
   "file_extension": ".py",
   "mimetype": "text/x-python",
   "name": "python",
   "nbconvert_exporter": "python",
   "pygments_lexer": "ipython3",
   "version": "3.7.1"
  }
 },
 "nbformat": 4,
 "nbformat_minor": 2
}
